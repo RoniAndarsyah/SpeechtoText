{
  "nbformat": 4,
  "nbformat_minor": 0,
  "metadata": {
    "colab": {
      "name": "speechtotext.ipynb",
      "provenance": []
    },
    "kernelspec": {
      "name": "python3",
      "display_name": "Python 3"
    },
    "language_info": {
      "name": "python"
    }
  },
  "cells": [
    {
      "cell_type": "markdown",
      "source": [
        "## Instal library speech recogniner"
      ],
      "metadata": {
        "id": "SZOWalWNjZEC"
      }
    },
    {
      "cell_type": "code",
      "source": [
        "pip install speechrecognition"
      ],
      "metadata": {
        "colab": {
          "base_uri": "https://localhost:8080/"
        },
        "id": "FTyF2kBQjfxU",
        "outputId": "8e9ef81e-c7e6-4581-91ad-33418310145c"
      },
      "execution_count": 2,
      "outputs": [
        {
          "output_type": "stream",
          "name": "stdout",
          "text": [
            "Looking in indexes: https://pypi.org/simple, https://us-python.pkg.dev/colab-wheels/public/simple/\n",
            "Collecting speechrecognition\n",
            "  Downloading SpeechRecognition-3.8.1-py2.py3-none-any.whl (32.8 MB)\n",
            "\u001b[K     |████████████████████████████████| 32.8 MB 1.1 MB/s \n",
            "\u001b[?25hInstalling collected packages: speechrecognition\n",
            "Successfully installed speechrecognition-3.8.1\n"
          ]
        }
      ]
    },
    {
      "cell_type": "markdown",
      "source": [
        "## Import Librarynya ya"
      ],
      "metadata": {
        "id": "VVDhn0I4jsiZ"
      }
    },
    {
      "cell_type": "code",
      "source": [
        "import speech_recognition as sr"
      ],
      "metadata": {
        "id": "LFScZ6x7judk"
      },
      "execution_count": 3,
      "outputs": []
    },
    {
      "cell_type": "code",
      "source": [
        "r = sr.Recognizer()\n",
        "r"
      ],
      "metadata": {
        "colab": {
          "base_uri": "https://localhost:8080/"
        },
        "id": "G-c-AL7HsBJp",
        "outputId": "8030c3fe-c108-42be-c514-1a4af8b3dba6"
      },
      "execution_count": 8,
      "outputs": [
        {
          "output_type": "execute_result",
          "data": {
            "text/plain": [
              "<speech_recognition.Recognizer at 0x7f103b316d90>"
            ]
          },
          "metadata": {},
          "execution_count": 8
        }
      ]
    },
    {
      "cell_type": "markdown",
      "source": [
        "## Import Audionya ya dari Drive saja"
      ],
      "metadata": {
        "id": "FGyrP7g9sJqm"
      }
    },
    {
      "cell_type": "code",
      "source": [
        "from google.colab import drive\n",
        "drive.mount('/content/drive')"
      ],
      "metadata": {
        "colab": {
          "base_uri": "https://localhost:8080/"
        },
        "id": "BI558E5FsT_l",
        "outputId": "97118870-4fe9-464e-b9b8-59382ae7f66b"
      },
      "execution_count": 23,
      "outputs": [
        {
          "output_type": "stream",
          "name": "stdout",
          "text": [
            "Drive already mounted at /content/drive; to attempt to forcibly remount, call drive.mount(\"/content/drive\", force_remount=True).\n"
          ]
        }
      ]
    },
    {
      "cell_type": "code",
      "source": [
        "from IPython.lib.display import Audio\n",
        "suaranya = sr.AudioFile('/content/drive/MyDrive/Colab Notebooks/Speechtotext/ngomong.wav')\n",
        "with suaranya as source:\n",
        "  Audio = r.record(source)"
      ],
      "metadata": {
        "id": "M4jU1mclvrbt"
      },
      "execution_count": 25,
      "outputs": []
    },
    {
      "cell_type": "code",
      "source": [
        "type(Audio)"
      ],
      "metadata": {
        "colab": {
          "base_uri": "https://localhost:8080/"
        },
        "id": "XLsR8CSlwLCP",
        "outputId": "3ecd6f81-97e0-45c7-b31c-bf70853ea39a"
      },
      "execution_count": 26,
      "outputs": [
        {
          "output_type": "execute_result",
          "data": {
            "text/plain": [
              "speech_recognition.AudioData"
            ]
          },
          "metadata": {},
          "execution_count": 26
        }
      ]
    },
    {
      "cell_type": "markdown",
      "source": [
        "##  Konversi audio ke Text"
      ],
      "metadata": {
        "id": "qILW0RsKxb8_"
      }
    },
    {
      "cell_type": "code",
      "source": [
        "text = r.recognize_google(Audio, language=\"id-ID\")\n",
        "text"
      ],
      "metadata": {
        "colab": {
          "base_uri": "https://localhost:8080/",
          "height": 139
        },
        "id": "jIY9LoeTxeok",
        "outputId": "0051e60f-f456-44de-ff06-a223e290c547"
      },
      "execution_count": 27,
      "outputs": [
        {
          "output_type": "execute_result",
          "data": {
            "text/plain": [
              "'cek-cek hari ini kita akan coba speech recognition di Google collabs di sini saya akan memasukkan berita ra metaforce jadi tantangan di dunia pendidikan dan dilakukan uji coba metaverse jadi di sini ada banyak perintah yang bisa dipakai di speech recognition jadi langkah awal yang kita lakukan adalah proses instalasi setelah proses instalasi maka kita akan melakukan impor the library Setelah dari import library terus dimasukkan lagi hasil rekaman nya kemudian dipilih diimpor lagi dimasukkan pakai SSR recognizer gitu ya disitu kita bisa lihat speech recognition nya dari data recognizer Eta berapa Masukin kodenya gua masukin kodenya nanti diimpor ambil aja datanya disimpan di Google Drive saja Kemudian type text audionya nanti ambil dari audio data kemudian dikonversi audionya ke teks-teks itu Pilihlah english-nya ide atau Indonesia ya kemudian setelah itu kita bisa lihat hasil konversi audio ke teks nya seperti apa'"
            ],
            "application/vnd.google.colaboratory.intrinsic+json": {
              "type": "string"
            }
          },
          "metadata": {},
          "execution_count": 27
        }
      ]
    }
  ]
}